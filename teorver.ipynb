{
 "cells": [
  {
   "cell_type": "markdown",
   "source": [
    "# Задача 1.1"
   ],
   "metadata": {
    "collapsed": false
   }
  },
  {
   "cell_type": "markdown",
   "source": [
    "Для решения этой задачи рассмотрим граф, в котором вершины соответствуют людям, а ребра — передачам новости. Начальная вершина помечена как $v_0$. Нам нужно найти вероятность того, что новость не вернется к вершине $v_0$ в течение $t$ шагов.\n",
    "\n",
    "Заметим, что на каждом шаге новость может перейти только на одного из $n$ соседей текущей вершины. Таким образом, каждый узел графа имеет степень $n$, а всего вершин $n+1$.\n",
    "Сколькими всего способами могла двигаться новость? Давайте поймем, что если она пропала через t шагов, то у нее есть столько вариантов:\n",
    "$$ C(t) = \\frac{n!}{(n - t)!} * n! $$\n",
    "Очевидно, что через n + 1 шаг новость точно не будет никем повторена.\n",
    "Давайте поймем, что если новость вернулась к первому человеку за $t$ шагов, значит что у нас сформировался один простой цикл из $t$ вершин в графе.\n",
    "Таким образом можно посчитать количество вариантов, которыми новость могла вернуться за t шагов\n",
    "$$ C_{a}(t) = \\frac{n!}{(n - t + 1)! (t - 1)!} (t - 1)! = \\frac{n!}{(n - t + 1)!} $$\n",
    "Тогда можно посчитать вероятность того, что новость за r вернется к $v_0$:\n",
    "$$ P_{a}(r) = \\frac{\\sum_{t=0}^r C_{a}(t)}{\\sum_{t=0}^n C(t)} = \\frac{\\sum_{t=0}^r \\frac{n!}{(n - t + 1)!}}{n! \\sum_{t=0}^n \\frac{n!}{(n - t)!}} = \\frac{\\sum_{t=0}^r \\frac{1}{(n - t + 1)!}}{n! \\sum_{t=0}^n \\frac{1}{(n - t)!}} $$\n",
    "А для решения пункта б) мы уже посчитали всё что нужно, ведь нам нужно просто узнать, не закончилась ли новость раньше r шагов:\n",
    "$$ P_{b}(r) = \\frac{\\sum_{t=0}^{r-1} C(t)}{\\sum_{t=0}^n C(t)} = \\frac{\\sum_{t=0}^{r-1} \\frac{1}{(n - t)!}}{\\sum_{t=0}^n \\frac{1}{(n - t)!}} $$"
   ],
   "metadata": {
    "collapsed": false
   }
  },
  {
   "cell_type": "code",
   "execution_count": 55,
   "metadata": {
    "collapsed": true
   },
   "outputs": [],
   "source": []
  },
  {
   "cell_type": "markdown",
   "source": [
    "# Задача 2.2\n"
   ],
   "metadata": {
    "collapsed": false
   }
  },
  {
   "cell_type": "markdown",
   "source": [
    "Перефразируем задачу: у нас есть 3 случайные помеченные точки на отрезке [0, 60], нужно найти вероятность того, что минимальное расстояние между двумя из них <= 10.\n",
    "Посчитаем меру множества, на котором условие выполнено, по-тупому рассмотрев все положения точек. Для этого посчитаем 3 способа расположить точки:\n",
    "1) между первой и второй точкой <= 10, а между второй и третьей > 10\n",
    "$$ \\int_{0}^{40} \\int_{x}^{x+10} \\int_{y + 10}^{60}dz dy dx + \\int_{40}^{50} \\int_{x}^{50} \\int_{y + 10}^{60}dz dy dx = \\frac{30500}{3}  $$\n",
    "2) между второй и третьей точкой <= 10, а между первой и второй > 10\n",
    "$$ \\int_{20}^{60} \\int_{z-10}^{z} \\int_{0}^{y - 10}dx dy dz + \\int_{10}^{20} \\int_{10}^{z} \\int_{0}^{y - 10}dx dy dz = \\frac{30500}{3}  $$\n",
    "3) между первой и второй точкой <= 10, между второй и третьей <= 10\n",
    "$$ \\int_{0}^{40} \\int_{x}^{x+10} \\int_{y}^{y+10} dz dy dx + \\int_{40}^{50} \\int_{x}^{50} \\int_{y}^{y + 10} dz dy dx + \\int_{40}^{50} \\int_{50}^{x + 10} \\int_{y}^{60} dz dy dx + \\int_{50}^{60} \\int_{x}^{60} \\int_{y}^{60} dz dy dx = 5000 $$\n",
    "\n",
    "Сумма этих трех событий получается $ \\frac{76000}{3}$. Также это число нужно домножить на $3! = 6$, так как мы рассматривали конкретную расстановку трех точек, а товарищи разные и могли придти в любой из перестановок.\n",
    "Так общая Лебегова мера пространства равна $60 ^ 3 = 216000$\n",
    "Тогда искомая вероятность равна $ \\frac {2 * 76000}{ 216000} = \\frac{19}{27} ~= 0.703704 $\n",
    "Проверим простым численным моделированием:"
   ],
   "metadata": {
    "collapsed": false
   }
  },
  {
   "cell_type": "code",
   "execution_count": 56,
   "outputs": [
    {
     "name": "stdout",
     "output_type": "stream",
     "text": [
      "0.703159\n"
     ]
    }
   ],
   "source": [
    "import math\n",
    "\n",
    "import numpy as np\n",
    "\n",
    "ATTEMPTS = 1000000\n",
    "success = 0\n",
    "for _ in range(ATTEMPTS):\n",
    "    x, y, z = np.random.uniform(0, 60, 3)\n",
    "    if min(abs(x - y), abs(x - z), abs(y - z)) <= 10:\n",
    "        success += 1\n",
    "print(success / ATTEMPTS)"
   ],
   "metadata": {
    "collapsed": false
   }
  },
  {
   "cell_type": "markdown",
   "source": [
    "Сходится, повезло"
   ],
   "metadata": {
    "collapsed": false
   }
  },
  {
   "cell_type": "markdown",
   "source": [
    "# Задача 3.3\n"
   ],
   "metadata": {
    "collapsed": false
   }
  },
  {
   "cell_type": "markdown",
   "source": [
    "Введем событие $C_j = \\{X + Y = j\\}$\n",
    "По сути, нам нужно посчитать:\n",
    "$$ P(A_i | C_j) $$\n",
    "Воспользуемся формулой Байеса:\n",
    "$$ P(A_i | C_j) = \\frac{P(C_j| A_i) P(A_i)}{P(C_j)} $$\n",
    "Заметим, что\n",
    "$$ P(C_j | A_i) = P(B_{j-i}) $$\n",
    "А также мы можем выразить $C_j$\n",
    "$$ P(C_j) = \\sum_{z=0}_j P(A_z) P(B_{j-z}) = \\sum_{z=0}^j p^2 (1-p)^j = (j+1) p^2 (1-p)^j $$\n",
    "Тогда искомое:\n",
    "$$ P(A_i | C_j) = \\frac{P(b_{j-i}) P(A_i)}{(j+1) p^2 (1-p)^j} = \\frac{p^2(1-p)^j}{(j+1) p^2 (1-p)^j} = \\frac {1}{j+1}$$"
   ],
   "metadata": {
    "collapsed": false
   }
  },
  {
   "cell_type": "markdown",
   "source": [
    "Как ни странно, ответ у нас получился независим от p.\n",
    "Попробуем проэмулировать эту задачку:"
   ],
   "metadata": {
    "collapsed": false
   }
  },
  {
   "cell_type": "code",
   "execution_count": null,
   "outputs": [],
   "source": [
    "from collections import Counter\n",
    "import random\n",
    "import matplotlib.pyplot as plt\n",
    "random.seed(42)\n",
    "\n",
    "MAX = 10000\n",
    "\n",
    "def simulate(p):\n",
    "    i = 0\n",
    "    while True:\n",
    "        if random.random() < ((1-p) ** i) * p:\n",
    "            return i\n",
    "        i += 1\n",
    "        if i == MAX:\n",
    "            return i\n",
    "pt = []\n",
    "otklt = []\n",
    "for p in range(35, 85):\n",
    "    p = p / 100\n",
    "    num_samples = 5000\n",
    "    samples_x = list(filter(lambda c: c < MAX, [simulate(p) for i in range(num_samples)]))\n",
    "    samples_y = list(filter(lambda c: c < MAX, [simulate(p) for i in range(num_samples)]))\n",
    "    samples_xy = [[x, y] for x in samples_y for y in samples_x]\n",
    "    c = {i[0] + i[1]: [] for i in samples_xy}\n",
    "    for i in samples_xy:\n",
    "        c[i[0] + i[1]].append(i[0])\n",
    "    sum_otkl = 0\n",
    "    for j, values in c.items():\n",
    "        counter = Counter()\n",
    "        for i in values:\n",
    "            counter[i] += 1\n",
    "        sum_otkl += sum(map(lambda it: (it / len(values) - 1 / (j + 1)) ** 2, counter.values()))\n",
    "    pt.append(p)\n",
    "    otklt.append(sum_otkl)\n",
    "plt.plot(pt, otklt)\n",
    "plt.show()"
   ],
   "metadata": {
    "collapsed": false,
    "pycharm": {
     "is_executing": true
    }
   }
  },
  {
   "cell_type": "markdown",
   "source": [
    "Как мы видим, среднеквадратичное отклонение от предполагаемого результата получилось относительно небольшим (учитывая, что пар измерений порядка 250000) и при исследованных всех p ведет себя примерно одинаково (я не брал p близкие к 0 или 1, так как на них эмуляция идет очень долго)"
   ],
   "metadata": {
    "collapsed": false
   }
  },
  {
   "cell_type": "markdown",
   "source": [
    "# Задача 4"
   ],
   "metadata": {
    "collapsed": false
   }
  },
  {
   "cell_type": "markdown",
   "source": [
    "Воспользуемся интегральной теоремой Муавра-Лапласа\n",
    "$$ P(\\frac{n}{2} - \\sqrt{npq} <= S_n <= \\frac{n}{2} + \\sqrt{npq}) =\n",
    "P(\\frac{n}{2} - \\sqrt{npq} - np <= S_n - np <= \\frac{n}{2} + \\sqrt{npq} - np) =\n",
    "P(\\frac{\\frac{n}{2} - np}{\\sqrt{npq}} - 1 <= \\frac{S_n - np}{\\sqrt{npq}} <= \\frac{\\frac{n}{2} - np}{\\sqrt{npq}} + 1)\n",
    "≈ Ф(\\frac{\\frac{n}{2} - np}{\\sqrt{npq}} + 1) - Ф(\\frac{\\frac{n}{2} - np}{\\sqrt{npq}} - 1) $$\n",
    "Здесь Ф -- функция стандартного нормального распределния. Для её приближения мы воспользуемся функцией из библиотеки scipy (поскольку интеграл из неё всё равно не вычисляется явно)."
   ],
   "metadata": {
    "collapsed": false
   }
  },
  {
   "cell_type": "code",
   "execution_count": 26,
   "outputs": [
    {
     "name": "stdout",
     "output_type": "stream",
     "text": [
      "n\\p       0.001      0.01     0.1      0.25     0.5\n",
      "    10 2.51e-13 2.40e-08 8.39e-04 1.85e-02 2.64e-02 \n",
      "   100 9.60e-122 6.10e-72 3.61e-21 3.35e-06 4.61e-02 \n",
      "  1000 0.00e+00 0.00e+00 1.33e-215 1.50e-58 9.63e-03 \n",
      " 10000 0.00e+00 0.00e+00 0.00e+00 0.00e+00 4.82e-03 \n"
     ]
    }
   ],
   "source": [
    "from fractions import Fraction\n",
    "from math import ceil, floor, comb\n",
    "from scipy.stats import norm\n",
    "print(\"n\\p       0.001      0.01     0.1      0.25     0.5\")\n",
    "for n in (10, 100, 1000, 10000):\n",
    "    print(\"{:6}\".format(n), end=\" \")\n",
    "    for p in (Fraction(1, 1000), Fraction(1, 100), Fraction(1, 10), Fraction(1, 4), Fraction(1, 2)):\n",
    "        exact = Fraction(0)\n",
    "        q = 1 - p\n",
    "        sqrt_npq = (n * p * q) ** 0.5\n",
    "        for k in range(ceil(n / 2 - sqrt_npq), floor(n / 2 + sqrt_npq) + 1):\n",
    "            exact += comb(n, k) * p ** k * q ** (n - k)\n",
    "        approx = norm.cdf((n / 2 - n * p) / sqrt_npq + 1) - norm.cdf((n / 2 - n * p) / sqrt_npq - 1)\n",
    "        print(\"{:2.2e}\".format(abs(exact - approx)), end=\" \")\n",
    "    print('')"
   ],
   "metadata": {
    "collapsed": false,
    "ExecuteTime": {
     "start_time": "2023-04-15T12:26:03.491714Z",
     "end_time": "2023-04-15T12:26:08.474688Z"
    }
   }
  },
  {
   "cell_type": "markdown",
   "source": [
    "Видно, что при маленьких p интегральная теорема Муавра-Лапласа довольно точно приближала точное значение, но при достаточно больших уже давала значительные огрехи.\n",
    "С увеличением n, как и ожидается в теории, погрешность уменьшается и стремится к нулю.\n"
   ],
   "metadata": {
    "collapsed": false
   }
  },
  {
   "cell_type": "markdown",
   "source": [],
   "metadata": {
    "collapsed": false
   }
  },
  {
   "cell_type": "markdown",
   "source": [],
   "metadata": {
    "collapsed": false
   }
  }
 ],
 "metadata": {
  "kernelspec": {
   "display_name": "Python 3",
   "language": "python",
   "name": "python3"
  },
  "language_info": {
   "codemirror_mode": {
    "name": "ipython",
    "version": 2
   },
   "file_extension": ".py",
   "mimetype": "text/x-python",
   "name": "python",
   "nbconvert_exporter": "python",
   "pygments_lexer": "ipython2",
   "version": "2.7.6"
  }
 },
 "nbformat": 4,
 "nbformat_minor": 0
}
